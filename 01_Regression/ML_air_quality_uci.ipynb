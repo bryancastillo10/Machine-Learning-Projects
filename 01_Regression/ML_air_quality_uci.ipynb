{
 "cells": [
  {
   "cell_type": "code",
   "execution_count": 3,
   "metadata": {},
   "outputs": [],
   "source": [
    "import pandas as pd \n",
    "import numpy as np \n",
    "import matplotlib.pyplot as plt\n",
    "import seaborn as sns\n",
    "\n",
    "import sklearn.linear_model"
   ]
  },
  {
   "cell_type": "markdown",
   "metadata": {},
   "source": [
    "### Linear Regression Analysis\n",
    "\n",
    "Objective: To predict the NOx concentration based on the cleaned data utilizing different regression algorithms and identify which among those algorithms has the best model performance:\n",
    "\n",
    "- Linear Regression Analysis\n",
    "- Lasso Regression Analysis\n",
    "- Support Vector Machine (SVM)\n",
    "- Random Forest Classifier"
   ]
  },
  {
   "cell_type": "markdown",
   "metadata": {},
   "source": [
    "### Model 1: Linear Regression"
   ]
  },
  {
   "cell_type": "code",
   "execution_count": 2,
   "metadata": {},
   "outputs": [],
   "source": [
    "# Import Machine Learning Modules \n",
    "from sklearn.model_selection import  train_test_split\n",
    "from sklearn.linear_model import LinearRegression\n",
    "from sklearn.metrics import accuracy_score, mean_squared_error, r2_score"
   ]
  },
  {
   "cell_type": "code",
   "execution_count": null,
   "metadata": {},
   "outputs": [],
   "source": [
    "# Feature and Target Variables\n",
    "df = pd.read_csv('data/clean_data_aq_uci.csv')\n",
    "# Separating feature varibales with our target variable (NOx concentration)\n",
    "X = new_df.drop(['NOx(GT)'],axis=1)\n",
    "y = new_df['NOx(GT)']"
   ]
  },
  {
   "cell_type": "code",
   "execution_count": null,
   "metadata": {},
   "outputs": [],
   "source": [
    "# Data Train/Test Split\n",
    "X_train , X_test, y_train, y_test = train_test_split(X,y,test_size=0.2)\n",
    "\n",
    "# Model Implementation (Linear Regression)\n",
    "linear=LinearRegression()\n",
    "linear.fit(X_train, y_train)\n",
    "accuracy = linear.score(X_test,y_test)\n",
    "print(f\"Accuracy: {accuracy}\")"
   ]
  },
  {
   "cell_type": "code",
   "execution_count": null,
   "metadata": {},
   "outputs": [],
   "source": [
    "# Predicting values\n",
    "y_pred_lm=linear.predict(X_test)\n",
    "y_pred_lm"
   ]
  },
  {
   "cell_type": "code",
   "execution_count": null,
   "metadata": {},
   "outputs": [],
   "source": [
    "# Creating a dataframe combining the actual and predicted NOx concentration\n",
    "y_pred_lm = pd.Series(y_pred_lm, name='Predicted NOx')\n",
    "\n",
    "actual_and_pred = pd.concat([y_test.reset_index(drop=True),y_pred_lm],axis=1)\n",
    "actual_and_pred.rename(columns={'NOx(GT)':'Actual NOx'},inplace=True)\n",
    "actual_and_pred.set_index(y_test.index,inplace=True)\n",
    "actual_and_pred"
   ]
  },
  {
   "cell_type": "code",
   "execution_count": null,
   "metadata": {},
   "outputs": [],
   "source": [
    "plt.figure(figsize=(15,5))\n",
    "plt.plot(actual_and_pred.index,actual_and_pred['Actual NOx'],label='Actual NOx',linestyle='',\\\n",
    "    marker='*',color='#0072B2')\n",
    "plt.plot(actual_and_pred.index,actual_and_pred['Predicted NOx'],label='Predicted Nox',linestyle='',\\\n",
    "    marker='.',color='#009E73',alpha=0.5)\n",
    "plt.xlabel('Date')\n",
    "plt.ylabel('NOx concentration ($\\mu g/m^3$)')\n",
    "plt.title('Actual and Predicted NOx by Linear Regression')\n",
    "plt.legend()\n",
    "plt.show()"
   ]
  },
  {
   "cell_type": "code",
   "execution_count": null,
   "metadata": {},
   "outputs": [],
   "source": [
    "sns.scatterplot(actual_and_pred,x='Actual NOx',y='Predicted NOx',hue=actual_and_pred.index,\\\n",
    "    palette='coolwarm',legend=False)\n",
    "plt.plot(actual_and_pred['Actual NOx'],actual_and_pred['Actual NOx'],color='#000', linestyle='-')\n",
    "plt.title('Linear Regression Model for NOx Prediction')\n",
    "plt.show()\n",
    "\n",
    "# Model Evaluation: Some metrics to learn about the model\n",
    "print(\"Model Intercept:\", linear.intercept_)\n",
    "print(\"Mean Squared Error:\", mean_squared_error(y_test,y_pred))\n",
    "print(\"R-squared (Coefficient of Determination):\", r2_score(y_test, y_pred))"
   ]
  },
  {
   "cell_type": "markdown",
   "metadata": {},
   "source": [
    "### Lasso Regression Analysis"
   ]
  },
  {
   "cell_type": "code",
   "execution_count": null,
   "metadata": {},
   "outputs": [],
   "source": [
    "from sklearn.linear_model import Lasso\n",
    "from sklearn.model_selection import GridSearchCV\n",
    "\n",
    "lasso=Lasso(alpha = 0.5)\n",
    "# param={'alpha':[0.1,1,2,5,10]}\n",
    "# lasso_reg=GridSearchCV(lasso,param,scoring='neg_mean_squared_error',cv=4)\n",
    "\n",
    "lasso.fit(X_train,y_train)\n"
   ]
  },
  {
   "cell_type": "code",
   "execution_count": null,
   "metadata": {},
   "outputs": [],
   "source": [
    "lasso_predict = lasso.predict(X_test)\n",
    "lasso_predict"
   ]
  },
  {
   "cell_type": "code",
   "execution_count": null,
   "metadata": {},
   "outputs": [],
   "source": [
    "lassostat = [round(mean_squared_error(y_test,lasso_predict),2), round(np.sqrt(mean_squared_error(y_test,lasso_predict)),2),round(r2_score(y_test,lasso_predict),2)]\n",
    "print('MSE value  {}'.format(lassostat[0]))\n",
    "print('RMSE value {}'.format(lassostat[1]))\n",
    "print('R^2 value {}'.format(lassostat[2]))"
   ]
  }
 ],
 "metadata": {
  "kernelspec": {
   "display_name": "ML",
   "language": "python",
   "name": "python3"
  },
  "language_info": {
   "codemirror_mode": {
    "name": "ipython",
    "version": 3
   },
   "file_extension": ".py",
   "mimetype": "text/x-python",
   "name": "python",
   "nbconvert_exporter": "python",
   "pygments_lexer": "ipython3",
   "version": "3.9.18"
  }
 },
 "nbformat": 4,
 "nbformat_minor": 2
}
