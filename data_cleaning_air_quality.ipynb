{
 "cells": [
  {
   "cell_type": "markdown",
   "metadata": {},
   "source": [
    "### Exploratory Data Analysis on Air Quality Dataset\n",
    "\n",
    "| Column Name | Data Type | Description | Units |\n",
    "| -------- | ------- | -------- | ------- |\n",
    "| Date | Datetime | Date of Monitoring | ------- |\n",
    "| Time | Datetime | Time of Monitoring| ------- |\n",
    "| CO(GT) | Integer | True hourly averaged concentration CO in mg/$m^{3}$ (reference analyzer)  |  mg/$m^{3}$|\n",
    "| PT08.S1(CO) | Categorical | hourly averaged sensor response (nominally CO targeted) | ------- |\n",
    "| NMHC(GT) | Integer | True hourly averaged overall Non Metanic HydroCarbons concentration in &micro;g/$m^{3}$ (reference analyzer) | &micro;g/$m^{3}$\t |\n",
    "| C6H6(GT) | Continuous | True hourly averaged Benzene concentration in &micro;g/m^3 (reference analyzer) | ------- |\n",
    "| PT08.S2(NMHC) | Categorical | hourly averaged sensor response (nominally NMHC targeted) | ------- |\n",
    "| NOx(GT)   | Integer | True hourly averaged NOx concentration in ppb (reference analyzer) | ppb |\n",
    "| PT08.S3(NOx)   | Categorical | hourly averaged sensor response (nominally NOx targeted) | ------- |\n",
    "| NO2(GT)   | Integer | True hourly averaged NO2 concentration in microg/m^3 (reference analyzer) | &micro;g/$m^{3}$ |\n",
    "| PT08.S4(NO2)   | Categorical | hourly averaged sensor response (nominally NO2 targeted) | ------- |\n",
    "| PT08.S5(O3)   | Categorical | hourly averaged sensor response (nominally O3 targeted) | ------- |\n",
    "| T   | Continuous | Temperature | &deg;C |\n",
    "| RH  | Continuous | Relative Humidity | % |\n",
    "| AH   | Continuous | Absolute Humidity | ------- |\n"
   ]
  },
  {
   "cell_type": "code",
   "execution_count": 1,
   "metadata": {},
   "outputs": [],
   "source": [
    "import pandas as pd \n",
    "import numpy as np \n",
    "\n",
    "import matplotlib.pyplot as plt\n",
    "import seaborn as sns\n",
    "\n",
    "color_pal = sns.color_palette()\n",
    "plt.style.use('ggplot')"
   ]
  },
  {
   "cell_type": "code",
   "execution_count": 2,
   "metadata": {},
   "outputs": [
    {
     "name": "stdout",
     "output_type": "stream",
     "text": [
      "<class 'pandas.core.frame.DataFrame'>\n",
      "RangeIndex: 9471 entries, 0 to 9470\n",
      "Data columns (total 17 columns):\n",
      " #   Column         Non-Null Count  Dtype  \n",
      "---  ------         --------------  -----  \n",
      " 0   Date           9357 non-null   object \n",
      " 1   Time           9357 non-null   object \n",
      " 2   CO(GT)         9357 non-null   object \n",
      " 3   PT08.S1(CO)    9357 non-null   float64\n",
      " 4   NMHC(GT)       9357 non-null   float64\n",
      " 5   C6H6(GT)       9357 non-null   object \n",
      " 6   PT08.S2(NMHC)  9357 non-null   float64\n",
      " 7   NOx(GT)        9357 non-null   float64\n",
      " 8   PT08.S3(NOx)   9357 non-null   float64\n",
      " 9   NO2(GT)        9357 non-null   float64\n",
      " 10  PT08.S4(NO2)   9357 non-null   float64\n",
      " 11  PT08.S5(O3)    9357 non-null   float64\n",
      " 12  T              9357 non-null   object \n",
      " 13  RH             9357 non-null   object \n",
      " 14  AH             9357 non-null   object \n",
      " 15  Unnamed: 15    0 non-null      float64\n",
      " 16  Unnamed: 16    0 non-null      float64\n",
      "dtypes: float64(10), object(7)\n",
      "memory usage: 1.2+ MB\n"
     ]
    }
   ],
   "source": [
    "df = pd.read_csv('data/AirQualityUCI.csv',sep=';')\n",
    "df.info()"
   ]
  },
  {
   "cell_type": "code",
   "execution_count": 3,
   "metadata": {},
   "outputs": [
    {
     "data": {
      "text/plain": [
       "(9471, 10)"
      ]
     },
     "execution_count": 3,
     "metadata": {},
     "output_type": "execute_result"
    }
   ],
   "source": [
    "# Remove the categorical columns and some unnecessary columns\n",
    "df = df.drop(['PT08.S1(CO)','PT08.S2(NMHC)','PT08.S3(NOx)','PT08.S4(NO2)','PT08.S5(O3)' \\\n",
    "    ,'Unnamed: 15','Unnamed: 16'], axis = 1)\n",
    "df.shape"
   ]
  },
  {
   "cell_type": "code",
   "execution_count": 4,
   "metadata": {},
   "outputs": [
    {
     "data": {
      "text/html": [
       "<div>\n",
       "<style scoped>\n",
       "    .dataframe tbody tr th:only-of-type {\n",
       "        vertical-align: middle;\n",
       "    }\n",
       "\n",
       "    .dataframe tbody tr th {\n",
       "        vertical-align: top;\n",
       "    }\n",
       "\n",
       "    .dataframe thead th {\n",
       "        text-align: right;\n",
       "    }\n",
       "</style>\n",
       "<table border=\"1\" class=\"dataframe\">\n",
       "  <thead>\n",
       "    <tr style=\"text-align: right;\">\n",
       "      <th></th>\n",
       "      <th>CO(GT)</th>\n",
       "      <th>NMHC(GT)</th>\n",
       "      <th>C6H6(GT)</th>\n",
       "      <th>NOx(GT)</th>\n",
       "      <th>NO2(GT)</th>\n",
       "      <th>T</th>\n",
       "      <th>RH</th>\n",
       "      <th>AH</th>\n",
       "    </tr>\n",
       "    <tr>\n",
       "      <th>Datetime</th>\n",
       "      <th></th>\n",
       "      <th></th>\n",
       "      <th></th>\n",
       "      <th></th>\n",
       "      <th></th>\n",
       "      <th></th>\n",
       "      <th></th>\n",
       "      <th></th>\n",
       "    </tr>\n",
       "  </thead>\n",
       "  <tbody>\n",
       "    <tr>\n",
       "      <th>2004-03-10 18:00:00</th>\n",
       "      <td>2,6</td>\n",
       "      <td>150.0</td>\n",
       "      <td>11,9</td>\n",
       "      <td>166.0</td>\n",
       "      <td>113.0</td>\n",
       "      <td>13,6</td>\n",
       "      <td>48,9</td>\n",
       "      <td>0,7578</td>\n",
       "    </tr>\n",
       "    <tr>\n",
       "      <th>2004-03-10 19:00:00</th>\n",
       "      <td>2</td>\n",
       "      <td>112.0</td>\n",
       "      <td>9,4</td>\n",
       "      <td>103.0</td>\n",
       "      <td>92.0</td>\n",
       "      <td>13,3</td>\n",
       "      <td>47,7</td>\n",
       "      <td>0,7255</td>\n",
       "    </tr>\n",
       "    <tr>\n",
       "      <th>2004-03-10 20:00:00</th>\n",
       "      <td>2,2</td>\n",
       "      <td>88.0</td>\n",
       "      <td>9,0</td>\n",
       "      <td>131.0</td>\n",
       "      <td>114.0</td>\n",
       "      <td>11,9</td>\n",
       "      <td>54,0</td>\n",
       "      <td>0,7502</td>\n",
       "    </tr>\n",
       "    <tr>\n",
       "      <th>2004-03-10 21:00:00</th>\n",
       "      <td>2,2</td>\n",
       "      <td>80.0</td>\n",
       "      <td>9,2</td>\n",
       "      <td>172.0</td>\n",
       "      <td>122.0</td>\n",
       "      <td>11,0</td>\n",
       "      <td>60,0</td>\n",
       "      <td>0,7867</td>\n",
       "    </tr>\n",
       "    <tr>\n",
       "      <th>2004-03-10 22:00:00</th>\n",
       "      <td>1,6</td>\n",
       "      <td>51.0</td>\n",
       "      <td>6,5</td>\n",
       "      <td>131.0</td>\n",
       "      <td>116.0</td>\n",
       "      <td>11,2</td>\n",
       "      <td>59,6</td>\n",
       "      <td>0,7888</td>\n",
       "    </tr>\n",
       "  </tbody>\n",
       "</table>\n",
       "</div>"
      ],
      "text/plain": [
       "                    CO(GT)  NMHC(GT) C6H6(GT)  NOx(GT)  NO2(GT)     T    RH  \\\n",
       "Datetime                                                                      \n",
       "2004-03-10 18:00:00    2,6     150.0     11,9    166.0    113.0  13,6  48,9   \n",
       "2004-03-10 19:00:00      2     112.0      9,4    103.0     92.0  13,3  47,7   \n",
       "2004-03-10 20:00:00    2,2      88.0      9,0    131.0    114.0  11,9  54,0   \n",
       "2004-03-10 21:00:00    2,2      80.0      9,2    172.0    122.0  11,0  60,0   \n",
       "2004-03-10 22:00:00    1,6      51.0      6,5    131.0    116.0  11,2  59,6   \n",
       "\n",
       "                         AH  \n",
       "Datetime                     \n",
       "2004-03-10 18:00:00  0,7578  \n",
       "2004-03-10 19:00:00  0,7255  \n",
       "2004-03-10 20:00:00  0,7502  \n",
       "2004-03-10 21:00:00  0,7867  \n",
       "2004-03-10 22:00:00  0,7888  "
      ]
     },
     "execution_count": 4,
     "metadata": {},
     "output_type": "execute_result"
    }
   ],
   "source": [
    "# To combine Date and Time column and set to index\n",
    "df['Datetime'] = pd.to_datetime(df['Date'] + ' ' +df['Time'].str.replace('.',':'),format= '%d/%m/%Y %H:%M:%S')\n",
    "df = df.set_index('Datetime')\n",
    "\n",
    "# Remove the Date Time since we already have a new index column, Datetime\n",
    "df = df.drop(['Date','Time'], axis = 1)\n",
    "\n",
    "# Separate Categorical and Numerical Data Types\n",
    "df = pd.concat([df.filter(like='GT'),df[['T','RH','AH']]] ,axis=1)\n",
    "df.head() "
   ]
  },
  {
   "cell_type": "code",
   "execution_count": 5,
   "metadata": {},
   "outputs": [
    {
     "data": {
      "text/html": [
       "<div>\n",
       "<style scoped>\n",
       "    .dataframe tbody tr th:only-of-type {\n",
       "        vertical-align: middle;\n",
       "    }\n",
       "\n",
       "    .dataframe tbody tr th {\n",
       "        vertical-align: top;\n",
       "    }\n",
       "\n",
       "    .dataframe thead th {\n",
       "        text-align: right;\n",
       "    }\n",
       "</style>\n",
       "<table border=\"1\" class=\"dataframe\">\n",
       "  <thead>\n",
       "    <tr style=\"text-align: right;\">\n",
       "      <th></th>\n",
       "      <th>CO(GT)</th>\n",
       "      <th>NMHC(GT)</th>\n",
       "      <th>C6H6(GT)</th>\n",
       "      <th>NOx(GT)</th>\n",
       "      <th>NO2(GT)</th>\n",
       "      <th>T</th>\n",
       "      <th>RH</th>\n",
       "      <th>AH</th>\n",
       "    </tr>\n",
       "    <tr>\n",
       "      <th>Datetime</th>\n",
       "      <th></th>\n",
       "      <th></th>\n",
       "      <th></th>\n",
       "      <th></th>\n",
       "      <th></th>\n",
       "      <th></th>\n",
       "      <th></th>\n",
       "      <th></th>\n",
       "    </tr>\n",
       "  </thead>\n",
       "  <tbody>\n",
       "    <tr>\n",
       "      <th>2004-03-10 18:00:00</th>\n",
       "      <td>2.6</td>\n",
       "      <td>150.0</td>\n",
       "      <td>11.9</td>\n",
       "      <td>166.0</td>\n",
       "      <td>113.0</td>\n",
       "      <td>13.6</td>\n",
       "      <td>48.9</td>\n",
       "      <td>0.7578</td>\n",
       "    </tr>\n",
       "    <tr>\n",
       "      <th>2004-03-10 19:00:00</th>\n",
       "      <td>2.0</td>\n",
       "      <td>112.0</td>\n",
       "      <td>9.4</td>\n",
       "      <td>103.0</td>\n",
       "      <td>92.0</td>\n",
       "      <td>13.3</td>\n",
       "      <td>47.7</td>\n",
       "      <td>0.7255</td>\n",
       "    </tr>\n",
       "    <tr>\n",
       "      <th>2004-03-10 20:00:00</th>\n",
       "      <td>2.2</td>\n",
       "      <td>88.0</td>\n",
       "      <td>9.0</td>\n",
       "      <td>131.0</td>\n",
       "      <td>114.0</td>\n",
       "      <td>11.9</td>\n",
       "      <td>54.0</td>\n",
       "      <td>0.7502</td>\n",
       "    </tr>\n",
       "    <tr>\n",
       "      <th>2004-03-10 21:00:00</th>\n",
       "      <td>2.2</td>\n",
       "      <td>80.0</td>\n",
       "      <td>9.2</td>\n",
       "      <td>172.0</td>\n",
       "      <td>122.0</td>\n",
       "      <td>11.0</td>\n",
       "      <td>60.0</td>\n",
       "      <td>0.7867</td>\n",
       "    </tr>\n",
       "    <tr>\n",
       "      <th>2004-03-10 22:00:00</th>\n",
       "      <td>1.6</td>\n",
       "      <td>51.0</td>\n",
       "      <td>6.5</td>\n",
       "      <td>131.0</td>\n",
       "      <td>116.0</td>\n",
       "      <td>11.2</td>\n",
       "      <td>59.6</td>\n",
       "      <td>0.7888</td>\n",
       "    </tr>\n",
       "  </tbody>\n",
       "</table>\n",
       "</div>"
      ],
      "text/plain": [
       "                     CO(GT)  NMHC(GT)  C6H6(GT)  NOx(GT)  NO2(GT)     T    RH  \\\n",
       "Datetime                                                                        \n",
       "2004-03-10 18:00:00     2.6     150.0      11.9    166.0    113.0  13.6  48.9   \n",
       "2004-03-10 19:00:00     2.0     112.0       9.4    103.0     92.0  13.3  47.7   \n",
       "2004-03-10 20:00:00     2.2      88.0       9.0    131.0    114.0  11.9  54.0   \n",
       "2004-03-10 21:00:00     2.2      80.0       9.2    172.0    122.0  11.0  60.0   \n",
       "2004-03-10 22:00:00     1.6      51.0       6.5    131.0    116.0  11.2  59.6   \n",
       "\n",
       "                         AH  \n",
       "Datetime                     \n",
       "2004-03-10 18:00:00  0.7578  \n",
       "2004-03-10 19:00:00  0.7255  \n",
       "2004-03-10 20:00:00  0.7502  \n",
       "2004-03-10 21:00:00  0.7867  \n",
       "2004-03-10 22:00:00  0.7888  "
      ]
     },
     "execution_count": 5,
     "metadata": {},
     "output_type": "execute_result"
    }
   ],
   "source": [
    "df[['CO(GT)','C6H6(GT)','T','RH','AH']] = df[['CO(GT)','C6H6(GT)','T','RH','AH']].apply\\\n",
    "    (lambda x: x.str.replace(',','.').astype(float))\n",
    "df.head()"
   ]
  },
  {
   "cell_type": "code",
   "execution_count": 6,
   "metadata": {},
   "outputs": [
    {
     "name": "stdout",
     "output_type": "stream",
     "text": [
      "<class 'pandas.core.frame.DataFrame'>\n",
      "DatetimeIndex: 9471 entries, 2004-03-10 18:00:00 to NaT\n",
      "Data columns (total 8 columns):\n",
      " #   Column    Non-Null Count  Dtype  \n",
      "---  ------    --------------  -----  \n",
      " 0   CO(GT)    9357 non-null   float64\n",
      " 1   NMHC(GT)  9357 non-null   float64\n",
      " 2   C6H6(GT)  9357 non-null   float64\n",
      " 3   NOx(GT)   9357 non-null   float64\n",
      " 4   NO2(GT)   9357 non-null   float64\n",
      " 5   T         9357 non-null   float64\n",
      " 6   RH        9357 non-null   float64\n",
      " 7   AH        9357 non-null   float64\n",
      "dtypes: float64(8)\n",
      "memory usage: 665.9 KB\n"
     ]
    }
   ],
   "source": [
    "df.info()"
   ]
  },
  {
   "cell_type": "code",
   "execution_count": 7,
   "metadata": {},
   "outputs": [
    {
     "data": {
      "text/plain": [
       "CO(GT)      114\n",
       "NMHC(GT)    114\n",
       "C6H6(GT)    114\n",
       "NOx(GT)     114\n",
       "NO2(GT)     114\n",
       "T           114\n",
       "RH          114\n",
       "AH          114\n",
       "dtype: int64"
      ]
     },
     "execution_count": 7,
     "metadata": {},
     "output_type": "execute_result"
    }
   ],
   "source": [
    "# Observe null (NaN) values\n",
    "df.isna().sum()"
   ]
  },
  {
   "cell_type": "markdown",
   "metadata": {},
   "source": [
    "In this dataset, there are 114 values that are either zero or negative values ( there are *-200 values* when I checked the raw data). So, we need to manipulate those negative values to ensure a good correlation analysis."
   ]
  },
  {
   "cell_type": "code",
   "execution_count": 8,
   "metadata": {},
   "outputs": [
    {
     "name": "stdout",
     "output_type": "stream",
     "text": [
      "CO(GT) : 0.18973709217611656\n",
      "NMHC(GT) : 0.9034948791046352\n",
      "C6H6(GT) : 0.05068102629078239\n",
      "NOx(GT) : 0.18509133143279485\n",
      "NO2(GT) : 0.18540808784711224\n",
      "T : 0.05068102629078239\n",
      "RH : 0.05068102629078239\n",
      "AH : 0.05068102629078239\n"
     ]
    }
   ],
   "source": [
    "# Handling Null Values\n",
    "for col in df.columns: \n",
    "    df[col] = df[col].replace(-200,np.nan)\n",
    "    print(col,':',df[col].isna().sum()/len(df)) \n",
    "    if df[col][:int(len(df)*0.8)].isna().sum()/int(len(df)*0.8) > 0.5: \n",
    "        df.drop(col, axis=1, inplace=True)\n",
    "    else:\n",
    "        df[col]: df[col].interpolate(method='linear',limit_direction='both')"
   ]
  },
  {
   "cell_type": "markdown",
   "metadata": {},
   "source": [
    "NMHC(GT) column was dropped based on the interpolation since it has a large volumes of outlier that can affect the model"
   ]
  },
  {
   "cell_type": "code",
   "execution_count": 12,
   "metadata": {},
   "outputs": [
    {
     "data": {
      "text/plain": [
       "<Axes: >"
      ]
     },
     "execution_count": 12,
     "metadata": {},
     "output_type": "execute_result"
    },
    {
     "data": {
      "image/png": "[encoded data removed]",
      "text/plain": [
       "<Figure size 800x500 with 2 Axes>"
      ]
     },
     "metadata": {},
     "output_type": "display_data"
    }
   ],
   "source": [
    "corr_mat = df.dropna().corr()\n",
    "plt.figure(figsize=(8,5))\n",
    "sns.heatmap(corr_mat,cmap=\"coolwarm_r\",fmt=\".2f\", linewidths=.5)"
   ]
  },
  {
   "cell_type": "markdown",
   "metadata": {},
   "source": [
    "Since NO2(GT),NOx(GT), T,and RH are observed to have some relative correlations, we can perform some feature engineering among those parameters. Let's provide NO2/NOx ratio and the *dew point* \n",
    "to form a new variable between T and RH using the formula:\n",
    "\n",
    "$T_d = T-\\frac{{100 - RH}}{5}$"
   ]
  },
  {
   "cell_type": "code",
   "execution_count": 28,
   "metadata": {},
   "outputs": [],
   "source": [
    "#Function to create new features replacing some of the original ones\n",
    "def create_features(df):\n",
    "    feat_df= df.copy()\n",
    "    # NO2/NOx ratio\n",
    "    feat_df['CO/C6H6(GT)'] = feat_df['CO(GT)']/feat_df['C6H6(GT)']\n",
    "    # NO2/NOx ratio\n",
    "    feat_df['NO2/NOx(GT)'] = feat_df['NO2(GT)']/feat_df['NOx(GT)']\n",
    "    # Dew Point\n",
    "    feat_df['Dew_Point'] = abs(feat_df['T'] - (100 - feat_df['RH']) / 5)\n",
    "    # Remove AH and other columns\n",
    "    feat_df = feat_df.drop(['AH','T','RH','NO2(GT)','NOx(GT)','C6H6(GT)','CO(GT)'],axis=1)\n",
    "    return feat_df\n",
    "\n",
    "df2 = create_features(df)"
   ]
  },
  {
   "cell_type": "code",
   "execution_count": 29,
   "metadata": {},
   "outputs": [
    {
     "data": {
      "text/plain": [
       "<Axes: >"
      ]
     },
     "execution_count": 29,
     "metadata": {},
     "output_type": "execute_result"
    },
    {
     "data": {
      "image/png": "[encoded data removed]",
      "text/plain": [
       "<Figure size 800x500 with 2 Axes>"
      ]
     },
     "metadata": {},
     "output_type": "display_data"
    }
   ],
   "source": [
    "corr_mat = df2.corr().copy()\n",
    "plt.figure(figsize=(8,5))\n",
    "sns.heatmap(corr_mat,cmap=\"coolwarm_r\",fmt=\".2f\", linewidths=.5)"
   ]
  },
  {
   "cell_type": "markdown",
   "metadata": {},
   "source": [
    "Based on this observation that Dew_Point is highly correlated with C6H6(GT) and then the two new ratio features which are NO2/NOx(GT) and NMHC/CO(GT) are highly correlated variables. We should not combine any of those correlations in training a model. It would result to multicollinearity issue or overfitting of the model."
   ]
  },
  {
   "cell_type": "code",
   "execution_count": null,
   "metadata": {},
   "outputs": [],
   "source": [
    "feat_df_new = feat_df_new.drop('NMHC/CO(GT)',axis=1).copy()"
   ]
  },
  {
   "cell_type": "code",
   "execution_count": null,
   "metadata": {},
   "outputs": [],
   "source": [
    "ax = feat_df_new.plot(style='.',figsize=(15,5),color=[color_pal[0],color_pal[1],color_pal[2]])\n",
    "ax.legend(labelcolor='linecolor',loc='center left')\n",
    "plt.show()"
   ]
  },
  {
   "cell_type": "code",
   "execution_count": null,
   "metadata": {},
   "outputs": [],
   "source": [
    "filter_df = feat_df_new[(feat_df_new['NO2/NOx(GT)'] >= 0) & (feat_df_new['C6H6(GT)'] >= 0) & (feat_df_new['Dew_Point'] >= 0)]\n",
    "filter_df.shape"
   ]
  },
  {
   "cell_type": "code",
   "execution_count": null,
   "metadata": {},
   "outputs": [],
   "source": [
    "ax = filter_df.plot(style='.',figsize=(15,5),color=[color_pal[0],color_pal[1],color_pal[2]])\n",
    "ax.legend(labelcolor='linecolor',loc='center left')\n",
    "plt.show()"
   ]
  },
  {
   "cell_type": "code",
   "execution_count": null,
   "metadata": {},
   "outputs": [],
   "source": [
    "filter_df.to_csv('data/clean_data_AirQualityUCI.csv')"
   ]
  }
 ],
 "metadata": {
  "kernelspec": {
   "display_name": "algorithms",
   "language": "python",
   "name": "python3"
  },
  "language_info": {
   "codemirror_mode": {
    "name": "ipython",
    "version": 3
   },
   "file_extension": ".py",
   "mimetype": "text/x-python",
   "name": "python",
   "nbconvert_exporter": "python",
   "pygments_lexer": "ipython3",
   "version": "3.9.18"
  },
  "orig_nbformat": 4
 },
 "nbformat": 4,
 "nbformat_minor": 2
}
